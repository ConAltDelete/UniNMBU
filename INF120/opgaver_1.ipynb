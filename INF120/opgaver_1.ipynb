{
 "cells": [
  {
   "cell_type": "markdown",
   "metadata": {},
   "source": [
    "Oppgave 1\n",
    "---------\n",
    "Vi skal se på følgende snutter av kode."
   ]
  },
  {
   "cell_type": "code",
   "execution_count": null,
   "metadata": {},
   "outputs": [],
   "source": [
    "a = 8\n",
    "b = 10\n",
    "a = a - b\n",
    "c = b + b\n",
    "b = c + a"
   ]
  },
  {
   "cell_type": "markdown",
   "metadata": {},
   "source": [
    "Her vil variablene gi følgende verdier:\n",
    "a = 8\n",
    "b = 10\n",
    "a = 0\n",
    "c = 20\n",
    "b = 20\n",
    "Jeg ville personlig komprimere dette til følgede:"
   ]
  },
  {
   "cell_type": "code",
   "execution_count": null,
   "metadata": {},
   "outputs": [],
   "source": [
    "a = 8\n",
    "b = 10\n",
    "a = 0\n",
    "b = b*2 + a"
   ]
  },
  {
   "cell_type": "markdown",
   "metadata": {},
   "source": [
    "Oppgave 2\n",
    "---------\n",
    "a)\n",
    "--\n",
    "koden vil ikke fungere på linje 1 siden vi ikke etabler \"tall_1\" og \"tall_2\". En mer riktig måte vil være:"
   ]
  },
  {
   "cell_type": "code",
   "execution_count": null,
   "metadata": {},
   "outputs": [],
   "source": [
    "tall_1 = 327\n",
    "tall_2 = 169\n",
    "sum = tall_1 + tall_2"
   ]
  },
  {
   "cell_type": "markdown",
   "metadata": {},
   "source": [
    "b)\n",
    "--\n",
    "Koden vil ikke fungere siden vi har en type konflikt. sum er nå både en int og en funksjon. En rettelse vil være å forandre variabel navnet \"sum\" til \"Sum\" eller \"summen\"."
   ]
  },
  {
   "cell_type": "code",
   "execution_count": null,
   "metadata": {},
   "outputs": [],
   "source": [
    "liste = [1, 2, 3, 4]\n",
    "sum(liste)"
   ]
  },
  {
   "cell_type": "markdown",
   "metadata": {},
   "source": [
    "Oppgave 3\n",
    "---------"
   ]
  },
  {
   "cell_type": "code",
   "execution_count": 1,
   "metadata": {},
   "outputs": [
    {
     "name": "stdout",
     "output_type": "stream",
     "text": [
      "78.5\n"
     ]
    }
   ],
   "source": [
    "r = 5\n",
    "pi = 3.14\n",
    "areal = pi*r**2\n",
    "print(areal)"
   ]
  },
  {
   "cell_type": "markdown",
   "metadata": {},
   "source": [
    "Oppgave 4\n",
    "---------"
   ]
  },
  {
   "cell_type": "code",
   "execution_count": 4,
   "metadata": {},
   "outputs": [],
   "source": [
    "import turtle\n",
    "lengde = 100\n",
    "vinkel = 90\n",
    "for turn in range(4):\n",
    "    turtle.forward(lengde)\n",
    "    turtle.left(vinkel)"
   ]
  },
  {
   "cell_type": "markdown",
   "metadata": {},
   "source": [
    "Oppgave 5\n",
    "---------"
   ]
  },
  {
   "cell_type": "code",
   "execution_count": 1,
   "metadata": {},
   "outputs": [],
   "source": [
    "from turtle import *\n",
    "forward(80)\n",
    "left(90)\n",
    "forward(80)\n",
    "left(135)\n",
    "forward(120)"
   ]
  },
  {
   "cell_type": "code",
   "execution_count": null,
   "metadata": {},
   "outputs": [],
   "source": []
  }
 ],
 "metadata": {
  "kernelspec": {
   "display_name": "Python 3",
   "language": "python",
   "name": "python3"
  },
  "language_info": {
   "codemirror_mode": {
    "name": "ipython",
    "version": 3
   },
   "file_extension": ".py",
   "mimetype": "text/x-python",
   "name": "python",
   "nbconvert_exporter": "python",
   "pygments_lexer": "ipython3",
   "version": "3.7.2"
  }
 },
 "nbformat": 4,
 "nbformat_minor": 4
}
