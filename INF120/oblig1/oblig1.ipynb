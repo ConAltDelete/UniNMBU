{
 "cells": [
  {
   "cell_type": "markdown",
   "metadata": {},
   "source": [
    "Oppgave 1 (mangkantkunst.py)\n",
    "---------\n",
    "Oppgaven sier vi skal lage et program som tegner et polygram."
   ]
  },
  {
   "cell_type": "code",
   "execution_count": 1,
   "metadata": {},
   "outputs": [
    {
     "name": "stdin",
     "output_type": "stream",
     "text": [
      "Gi meg et tall større enn 0\n",
      " 4\n"
     ]
    }
   ],
   "source": [
    "import turtle #! ALDRI importer en hel modul uten at du vet hva som er inni den, og jeg vet ikke...\n",
    "\n",
    "user_input = int(input(\"Gi meg et tall større enn 0\\n\"))\n",
    "if user_input <= 0:\n",
    "\traise ValueError(\"input må være større enn 0\")\n",
    "angle = 360/user_input\n",
    "length = 80 # 1 = 1 anus\n",
    "\n",
    "for shit in range(user_input):\n",
    "\tturtle.forward(length)\n",
    "\tturtle.right(angle)\n",
    "\n",
    "turtle.done()\n",
    "\n",
    "\"\"\"\n",
    "cmd: python.exe mangekantkunst.py\n",
    "Gi meg et tall større enn 0\n",
    "1\n",
    "*turtle starter*\n",
    "*tegner en linje*\n",
    "*program termineres*\n",
    "\"\"\""
   ]
  },
  {
   "cell_type": "markdown",
   "metadata": {},
   "source": [
    "Dette ga oss en 4 siders sirkel (jeg tar nå en ekte sirkel til å ha uendelig mange sider)"
   ]
  },
  {
   "cell_type": "markdown",
   "metadata": {},
   "source": [
    "Oppgave 2 (mangkantkunst2.py)\n",
    "---------\n",
    "Oppgaven utvider Oppgave 1 ved å rotere figuren x ganger rundt sentrum."
   ]
  },
  {
   "cell_type": "code",
   "execution_count": 1,
   "metadata": {},
   "outputs": [
    {
     "name": "stdin",
     "output_type": "stream",
     "text": [
      "gi et tall større enn 0\n",
      " 4\n",
      "hvor mange blader vil du ha? n > 0\n",
      " 6\n"
     ]
    }
   ],
   "source": [
    "import turtle #! samme beskjed som i forrige oppgave...\n",
    "\n",
    "user_input = int(input(\"gi et tall større enn 0\\n\"))\n",
    "if user_input <= 0:\n",
    "\traise ValueError(\"input må være større enn 0\")\n",
    "blad_tall = int(input(\"hvor mange blader vil du ha? n > 0\\n\"))\n",
    "if blad_tall <= 0:\n",
    "\traise ValueError(\"input må være større enn 0\")\n",
    "\n",
    "length = 80\n",
    "penta = 360/user_input #vi sier navnet er informativt... Dette er veldig kort kode, gled deg til oppgave 3\n",
    "blad = 360/blad_tall\n",
    "\n",
    "for b in range(blad_tall):\n",
    "\tfor l in range(user_input):\n",
    "\t\tturtle.forward(length)\n",
    "\t\tturtle.right(penta)\n",
    "\tturtle.right(blad)\n",
    "turtle.done()\n",
    "\n",
    "\"\"\"\n",
    "cmd: python.exe mangekantkunst2.py\n",
    "gi et tall større enn 0\n",
    "6\n",
    "hvor mange blader vil du ha?\n",
    "3\n",
    "*turtle kjører*\n",
    "*turtle tegner 3 6-kanter hvor sidene er rører hverandre.*\n",
    "cmd: python.exe mangekantkunst2.py\n",
    "gi et tall større enn 0\n",
    "0\n",
    "*viser en feilmelding*\n",
    "*Program termineres*\n",
    "\n",
    "\"\"\""
   ]
  },
  {
   "cell_type": "markdown",
   "metadata": {},
   "source": [
    "Oppgave 3 (hemmelig_beskjed.py)\n",
    "---------\n",
    "For å være ærlig leste jeg ikke oppgaven nøye... Så her får dere 25 tegn med egen compiler som lager runer. Les README.txt før dere kjører programet."
   ]
  },
  {
   "cell_type": "markdown",
   "metadata": {},
   "source": [
    "Vi starter med hva som skal skrives. Siden mitt program er automatiser så spiller det ikke noen rolle hva vi skriver siden LEXEN ordner opp for oss. Det er laget en kode som debugger output-en for retting. "
   ]
  },
  {
   "cell_type": "code",
   "execution_count": null,
   "metadata": {},
   "outputs": [],
   "source": [
    "temp = \"\"\n",
    "for le in encodet:\n",
    "\ttemp += chr(le)\n",
    "print(temp)"
   ]
  },
  {
   "cell_type": "markdown",
   "metadata": {},
   "source": [
    "Det lexen gir oss er unicode versjonen av bokstavene, men ikke tallene siden vikinger ikke hadde tall, de hadde noen form for tall skriving men for det meste skrev de ned tallene på ord form. Lexen min ordner opp i dette for oss. \"temp += chr(le)\" tar disse tallverdiene og konverterer dem til str som er \"lesbare\", gitt du har den nyeste versjonen av utf-8. Dette blir brukt i selve loopen."
   ]
  },
  {
   "cell_type": "code",
   "execution_count": null,
   "metadata": {},
   "outputs": [],
   "source": [
    "turtle.penup() #Må ha for å sette posisjon\n",
    "for letter in encodet:\n",
    "\thight = hight - 15 if counter % limit == 0 else hight # Når man ønsker å gå lavere\n",
    "\tcounter = 0 if counter % limit == 0 else counter #Speeeeeeeeeed\n",
    "\tavdrag = 0 if counter % limit == 0 else avdrag # ved å la avdraget være uforandret får vi skråtekst\n",
    "\tturtle.goto(-250 + 10*counter + 1 - avdrag,screen_hight / 2 + hight - 25) #Start på font\n",
    "\tletterl = chr(letter) #oversetter fra int til en bokstav, fjernes ved mangel på lexen\n",
    "\tturtle.pendown()\n",
    "\tavdrag += eval(\"bm.tegn_{}()\".format(letterl)) if letterl not in [\" \",\".\",\",\",\"᛬\"] else eval(\"bm.tegn_{}()\".format({\",\":\"kom\",\".\":\"punk\",\" \":\"sp\",\"᛬\":\"sp\"}[letterl])) #tegner og opdaterer avdrag, SPEED CODE!\n",
    "\tturtle.setheading(0)\n",
    "\tcounter += 1 #Oppdatering\n",
    "turtle.hideturtle() #trengs ikke men bør være med for å lese siste font.\n",
    "turtle.done()"
   ]
  },
  {
   "cell_type": "markdown",
   "metadata": {},
   "source": [
    "Variablene hight, counter, og avdrag holder programmet sammen og organisert.\n",
    "1. hight; holder styr på hvor høyt opp turtle skal tegen. Denne blir forandret jo lengere inn i beskjeden vi kommer.\n",
    "2. counter; teller hvilke font vi er på og dermed oppdatere alle andre variabler.\n",
    "3. avdrag; hver font er ikke like store og vil derfor være mindre eller større. Dette reflekteres i linje 51.\n",
    "Istedet for å hente avdraget til hver font for så tegne valgte jeg heller at funksjonene returnerer avdraget etter de har tegnet fonten. Dette gjør at koden bli mindre og mer automatisert."
   ]
  },
  {
   "cell_type": "markdown",
   "metadata": {},
   "source": [
    "Her er et eksempel på en tegn modul:"
   ]
  },
  {
   "cell_type": "code",
   "execution_count": null,
   "metadata": {},
   "outputs": [],
   "source": [
    "def tegn_ᚱ():\n",
    "\tturtle.left(90)\n",
    "\tturtle.forward(8)\n",
    "\tturtle.right(90)\n",
    "\tturtle.forward(1)\n",
    "\tturtle.right(45)\n",
    "\tturtle.forward(3)\n",
    "\tturtle.right(90)\n",
    "\tturtle.forward(3)\n",
    "\tturtle.left(90)\n",
    "\tturtle.forward(7)\n",
    "\tturtle.penup()\n",
    "\treturn 2 #avdrag"
   ]
  },
  {
   "cell_type": "markdown",
   "metadata": {},
   "source": [
    "Som en kan se er meste parten av funksjonen et kall på turtle til å tegne utifra der den er. Return verdien beskriver hvor mye som er igjen av fonten. Siden mesteparten av tegnene vil være mindre eller lik 8 px brei vil verdiene for manglende plass være positiv mens ekstra bruk av plass vil være negativ."
   ]
  },
  {
   "cell_type": "markdown",
   "metadata": {},
   "source": [
    "Tillegg\n",
    "--------\n",
    "Lex.py analyserer text som den tar inn med hensyn til ordboken som vi mater den. Den deler teksten opp inn i ord forså til bokstaver og tall. Tall blir håndtert av en ennen klasse som vil dekomponere tallet til bokstaver, men den kjører ikke 20- tallsystem som vi er vant med, den kjører 10-tallsystem. Dette vil si at istedet for tjue gir den oss \"to ti\" som er gramatisk riktig og logisk tiktig siden vi har 2 av 10 istedet for 1 av 20. \n",
    "Det andre systemet som kjører i \"lex\" er at den vil først se etter bokstaver som ikke støttes av ordboken vi ga den for så bytte de ut med relevante forslag også gitt av ordboken. Etter konverteringen vil den gå igjenom blokker av ordene for å finne \"combo\"-er, disse er spesielle i den form at selv om de kan erstasses bokstav for bokstav har vi ekvivalente tegn som vil minke tekst lengde. Det siste den vil gjøre er å konvertere bokstaver med relevante bokstaver i ordboken. \n",
    "Det vi får til slutt er en liste med int som representerer hvilke unicode bokstav det er. Mellomrom vil også konverteres i dette tilfelle siden vikinger ikke hadde vanlige mellomrom. Andre spesial tegn vil ikke erstates men istedet gjort om til int som resten i riktig unicode. Aksagner på bokstaver vil fjernes med modulen \"unidecode\" siden den vil gjøre arbeidet litt mer vanskelig, med mindre vi kan simpelten legge til aksagn på runer i dette tilfellet."
   ]
  }
 ],
 "metadata": {
  "kernelspec": {
   "display_name": "Python 3",
   "language": "python",
   "name": "python3"
  },
  "language_info": {
   "codemirror_mode": {
    "name": "ipython",
    "version": 3
   },
   "file_extension": ".py",
   "mimetype": "text/x-python",
   "name": "python",
   "nbconvert_exporter": "python",
   "pygments_lexer": "ipython3",
   "version": "3.7.2"
  }
 },
 "nbformat": 4,
 "nbformat_minor": 4
}
