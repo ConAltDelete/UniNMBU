{
 "cells": [
  {
   "cell_type": "code",
   "execution_count": null,
   "metadata": {},
   "outputs": [],
   "source": [
    "from ferdig_indeks import last_in_indeks  # Her laster vi inn en ferdig søkeindeks\n",
    "\n",
    "__author__ = \"Mats Hoem Olsen\"\n",
    "__email__ = \"matsols@nmbu.no\"\n"
   ]
  },
  {
   "cell_type": "markdown",
   "metadata": {},
   "source": [
    "Vi skal ordne en funksjon"
   ]
  },
  {
   "cell_type": "code",
   "execution_count": null,
   "metadata": {},
   "outputs": [],
   "source": [
    "def fjern_spesialtegn(streng):\n",
    "\tr\"\"\"\n",
    "\tFjern de følgende spesialtegnene fra input strengen:\n",
    "\t\t``[',', '.', '\"', '\\'', ':', ';', '(', ')', '-', '?', '!']``\n",
    "\t\n",
    "\tArguments\n",
    "\t---------\n",
    "\tstreng : str\n",
    "\t\tInput strengen som spesialtegn skal fjernes fra\n",
    "\t\n",
    "\tReturns\n",
    "\t-------\n",
    "\tren_streng : str\n",
    "\t\tStrengen etter at spesialtegn er fjernet.\n",
    "\t\n",
    "\tNotes\n",
    "\t-----\n",
    "\tSe forelesningen den 20. mars.\n",
    "\n",
    "\tVi kan bruke ``replace`` funksjonen for å bytte substrenger med\n",
    "\tandre strenger. \n",
    "\n",
    "\t>>> streng = \"abc123abc\"\n",
    "\t>>> streng.replace('a', 'e')\n",
    "\tebc123ebc\n",
    "\n",
    "\tExamples\n",
    "\t--------\n",
    "\t>>> streng = \"abc1, hei på deg. Hva heter du?\"\n",
    "\t>>> fjern_spesialtegn(streng)\n",
    "\t\"abc1 hei på deg Hva heter du\"\n",
    "\n",
    "\t>>> streng = \"  Hei på deg!!!\\n\"\n",
    "\t>>> fjern_spesialtegn(streng)\n",
    "\t\"Hei på deg\"\n",
    "\t\"\"\"\n",
    "\t# Jeg vet at ting ikke er lovlig så jeg tar listen som slave \n",
    "\t# og får den til å gjøre jobben for meg. Jeg mater den regel-\n",
    "\t# messig og  den gjør det den skal gjøre. Nå den er ferdig \n",
    "\t# fjerner jeg alt dens arbeid ved å gjøre det til en str uten \n",
    "\t# nåde!\n",
    "\n",
    "\treturn \"\".join([t for t in streng if t not in [',', '.', '\"', '\\'', ':', ';', '(', ')', '-', '?', '!']])"
   ]
  },
  {
   "cell_type": "markdown",
   "metadata": {},
   "source": [
    "En ny modul"
   ]
  },
  {
   "cell_type": "code",
   "execution_count": null,
   "metadata": {},
   "outputs": [],
   "source": [
    "def finn_unike_ord_i_streng(streng):\n",
    "\t\"\"\"\n",
    "\tLag en mengde med alle ordene som dukker opp i strengen.\n",
    "\t\n",
    "\tPass på at strengen kun inneholder små bokstaver (hvis store bokstaver\n",
    "\ter med i strengen skal de bli gjort om til små bokstaver). Mellomrom\n",
    "\tpå slutten og starten av linjer skal også fjernes.\n",
    "\t\n",
    "\tDe følgende spesialtegn må og fjernes:\n",
    "\t``[',', '.', '\"', '\\'', ':', ';', '(', ')', '-', '?', '!']``\n",
    "\t\n",
    "\tArguments\n",
    "\t---------\n",
    "\tstreng : str\n",
    "\t\tStrengen vi vil finne unike tegn i.\n",
    "\t\n",
    "\tReturns\n",
    "\t-------\n",
    "\tord_i_streng : Set[str]\n",
    "\t\tMengden med unike ord i strengen.\n",
    "\t\n",
    "\tNotes\n",
    "\t-----\n",
    "\tSe forelesningvideoen for 13. mars og 19. mars.\n",
    "\n",
    "\tVi kan splitte opp strenger med ``split`` funksjonen.\n",
    "\n",
    "\t>>> tekst = 'abc 123'\n",
    "\t>>> print(tekst.split(' '))\n",
    "\t['abc', '123']\n",
    "\n",
    "\tExamples\n",
    "\t--------\n",
    "\t>>> streng = \"Nå arbeider vi med INF120. Faktisk arbeider vi med siste oblig i INF120!\"\n",
    "\t>>> finn_unike_ord_i_streng(streng)\n",
    "\t{'nå', 'arbeider', 'vi', 'med', 'inf120', 'faktisk', 'siste', 'oblig', 'i'}\n",
    "\t\n",
    "\tMerk at rekkefølgen på ordene ikke spiller noen rolle!\n",
    "\t\"\"\"\n",
    "\t# forestill deg at du kan en ting fra før og du vet andre ting, vel dette er det.\n",
    "\t# Jeg heter funksjonen fra tidligere, men jeg deler den opp!\n",
    "\t# DUN DUN DUUUUUUUUUUUUUUUUUUUN!\n",
    "\t# Med set() kan jeg eliminere alle uønskede inntregnere.\n",
    "\treturn set(fjern_spesialtegn(streng).split())"
   ]
  }
 ],
 "metadata": {
  "kernelspec": {
   "display_name": "Python 3",
   "language": "python",
   "name": "python3"
  },
  "language_info": {
   "codemirror_mode": {
    "name": "ipython",
    "version": 3
   },
   "file_extension": ".py",
   "mimetype": "text/x-python",
   "name": "python",
   "nbconvert_exporter": "python",
   "pygments_lexer": "ipython3",
   "version": "3.8.1"
  }
 },
 "nbformat": 4,
 "nbformat_minor": 4
}
